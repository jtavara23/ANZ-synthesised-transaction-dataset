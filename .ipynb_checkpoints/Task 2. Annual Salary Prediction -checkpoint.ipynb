{
 "cells": [
  {
   "cell_type": "markdown",
   "metadata": {},
   "source": [
    "# Task 2 - Predictive Analytics\n",
    "\n",
    "For the Data@ANZ Virtual Experience Program\n",
    "\n",
    "1. Build a simple regression model to predict the annual salary for each customer using the attributes you identified above\n",
    "\n",
    "How accurate is your model? Should ANZ use it to segment customers (for whom it does not have this data) into income brackets for reporting purposes?\n",
    "\n",
    "2. For a challenge: build a decision-tree based model to predict salary. Does it perform better? How would you accurately test the performance of this model?"
   ]
  },
  {
   "cell_type": "code",
   "execution_count": 1,
   "metadata": {},
   "outputs": [],
   "source": [
    "import pandas as pd\n",
    "import numpy as np\n"
   ]
  },
  {
   "cell_type": "code",
   "execution_count": 2,
   "metadata": {},
   "outputs": [],
   "source": [
    "df = pd.read_excel('ANZ synthesised transaction dataset.xlsx')"
   ]
  },
  {
   "cell_type": "code",
   "execution_count": 3,
   "metadata": {},
   "outputs": [],
   "source": [
    "#df.info()"
   ]
  },
  {
   "cell_type": "markdown",
   "metadata": {},
   "source": [
    "## Explore salary feature"
   ]
  },
  {
   "cell_type": "markdown",
   "metadata": {},
   "source": [
    "### First we identify monthly salary for each customer"
   ]
  },
  {
   "cell_type": "code",
   "execution_count": 4,
   "metadata": {},
   "outputs": [
    {
     "data": {
      "text/html": [
       "<div>\n",
       "<style scoped>\n",
       "    .dataframe tbody tr th:only-of-type {\n",
       "        vertical-align: middle;\n",
       "    }\n",
       "\n",
       "    .dataframe tbody tr th {\n",
       "        vertical-align: top;\n",
       "    }\n",
       "\n",
       "    .dataframe thead th {\n",
       "        text-align: right;\n",
       "    }\n",
       "</style>\n",
       "<table border=\"1\" class=\"dataframe\">\n",
       "  <thead>\n",
       "    <tr style=\"text-align: right;\">\n",
       "      <th></th>\n",
       "      <th>customer_id</th>\n",
       "      <th>date</th>\n",
       "      <th>month</th>\n",
       "    </tr>\n",
       "  </thead>\n",
       "  <tbody>\n",
       "    <tr>\n",
       "      <th>0</th>\n",
       "      <td>CUS-2487424745</td>\n",
       "      <td>2018-08-01</td>\n",
       "      <td>8</td>\n",
       "    </tr>\n",
       "    <tr>\n",
       "      <th>1</th>\n",
       "      <td>CUS-2487424745</td>\n",
       "      <td>2018-08-01</td>\n",
       "      <td>8</td>\n",
       "    </tr>\n",
       "    <tr>\n",
       "      <th>2</th>\n",
       "      <td>CUS-2142601169</td>\n",
       "      <td>2018-08-01</td>\n",
       "      <td>8</td>\n",
       "    </tr>\n",
       "    <tr>\n",
       "      <th>3</th>\n",
       "      <td>CUS-1614226872</td>\n",
       "      <td>2018-08-01</td>\n",
       "      <td>8</td>\n",
       "    </tr>\n",
       "    <tr>\n",
       "      <th>4</th>\n",
       "      <td>CUS-2487424745</td>\n",
       "      <td>2018-08-01</td>\n",
       "      <td>8</td>\n",
       "    </tr>\n",
       "    <tr>\n",
       "      <th>...</th>\n",
       "      <td>...</td>\n",
       "      <td>...</td>\n",
       "      <td>...</td>\n",
       "    </tr>\n",
       "    <tr>\n",
       "      <th>12038</th>\n",
       "      <td>CUS-55310383</td>\n",
       "      <td>2018-10-31</td>\n",
       "      <td>10</td>\n",
       "    </tr>\n",
       "    <tr>\n",
       "      <th>12039</th>\n",
       "      <td>CUS-2688605418</td>\n",
       "      <td>2018-10-31</td>\n",
       "      <td>10</td>\n",
       "    </tr>\n",
       "    <tr>\n",
       "      <th>12040</th>\n",
       "      <td>CUS-2663907001</td>\n",
       "      <td>2018-10-31</td>\n",
       "      <td>10</td>\n",
       "    </tr>\n",
       "    <tr>\n",
       "      <th>12041</th>\n",
       "      <td>CUS-1388323263</td>\n",
       "      <td>2018-10-31</td>\n",
       "      <td>10</td>\n",
       "    </tr>\n",
       "    <tr>\n",
       "      <th>12042</th>\n",
       "      <td>CUS-3129499595</td>\n",
       "      <td>2018-10-31</td>\n",
       "      <td>10</td>\n",
       "    </tr>\n",
       "  </tbody>\n",
       "</table>\n",
       "<p>12043 rows × 3 columns</p>\n",
       "</div>"
      ],
      "text/plain": [
       "          customer_id       date  month\n",
       "0      CUS-2487424745 2018-08-01      8\n",
       "1      CUS-2487424745 2018-08-01      8\n",
       "2      CUS-2142601169 2018-08-01      8\n",
       "3      CUS-1614226872 2018-08-01      8\n",
       "4      CUS-2487424745 2018-08-01      8\n",
       "...               ...        ...    ...\n",
       "12038    CUS-55310383 2018-10-31     10\n",
       "12039  CUS-2688605418 2018-10-31     10\n",
       "12040  CUS-2663907001 2018-10-31     10\n",
       "12041  CUS-1388323263 2018-10-31     10\n",
       "12042  CUS-3129499595 2018-10-31     10\n",
       "\n",
       "[12043 rows x 3 columns]"
      ]
     },
     "execution_count": 4,
     "metadata": {},
     "output_type": "execute_result"
    }
   ],
   "source": [
    "df['month'] = pd.DatetimeIndex(df['date']).month\n",
    "df[['customer_id', 'date', 'month']]"
   ]
  },
  {
   "cell_type": "code",
   "execution_count": 5,
   "metadata": {},
   "outputs": [
    {
     "data": {
      "text/plain": [
       "SALES-POS     3934\n",
       "POS           3783\n",
       "PAYMENT       2600\n",
       "PAY/SALARY     883\n",
       "INTER BANK     742\n",
       "PHONE BANK     101\n",
       "Name: txn_description, dtype: int64"
      ]
     },
     "execution_count": 5,
     "metadata": {},
     "output_type": "execute_result"
    }
   ],
   "source": [
    "df['txn_description'].value_counts()"
   ]
  },
  {
   "cell_type": "code",
   "execution_count": 6,
   "metadata": {},
   "outputs": [
    {
     "data": {
      "text/html": [
       "<div>\n",
       "<style scoped>\n",
       "    .dataframe tbody tr th:only-of-type {\n",
       "        vertical-align: middle;\n",
       "    }\n",
       "\n",
       "    .dataframe tbody tr th {\n",
       "        vertical-align: top;\n",
       "    }\n",
       "\n",
       "    .dataframe thead th {\n",
       "        text-align: right;\n",
       "    }\n",
       "</style>\n",
       "<table border=\"1\" class=\"dataframe\">\n",
       "  <thead>\n",
       "    <tr style=\"text-align: right;\">\n",
       "      <th></th>\n",
       "      <th>status</th>\n",
       "      <th>card_present_flag</th>\n",
       "      <th>bpay_biller_code</th>\n",
       "      <th>account</th>\n",
       "      <th>currency</th>\n",
       "      <th>long_lat</th>\n",
       "      <th>txn_description</th>\n",
       "      <th>merchant_id</th>\n",
       "      <th>merchant_code</th>\n",
       "      <th>first_name</th>\n",
       "      <th>...</th>\n",
       "      <th>merchant_suburb</th>\n",
       "      <th>merchant_state</th>\n",
       "      <th>extraction</th>\n",
       "      <th>amount</th>\n",
       "      <th>transaction_id</th>\n",
       "      <th>country</th>\n",
       "      <th>customer_id</th>\n",
       "      <th>merchant_long_lat</th>\n",
       "      <th>movement</th>\n",
       "      <th>month</th>\n",
       "    </tr>\n",
       "  </thead>\n",
       "  <tbody>\n",
       "    <tr>\n",
       "      <th>2530</th>\n",
       "      <td>posted</td>\n",
       "      <td>NaN</td>\n",
       "      <td>0</td>\n",
       "      <td>ACC-2828321672</td>\n",
       "      <td>AUD</td>\n",
       "      <td>153.03 -27.51</td>\n",
       "      <td>PAY/SALARY</td>\n",
       "      <td>NaN</td>\n",
       "      <td>0.0</td>\n",
       "      <td>Stephanie</td>\n",
       "      <td>...</td>\n",
       "      <td>NaN</td>\n",
       "      <td>NaN</td>\n",
       "      <td>2018-08-21T16:00:00.000+0000</td>\n",
       "      <td>970.47</td>\n",
       "      <td>71cd874fc20741f8b4a589c8286afeb2</td>\n",
       "      <td>Australia</td>\n",
       "      <td>CUS-1005756958</td>\n",
       "      <td>NaN</td>\n",
       "      <td>credit</td>\n",
       "      <td>8</td>\n",
       "    </tr>\n",
       "    <tr>\n",
       "      <th>4402</th>\n",
       "      <td>posted</td>\n",
       "      <td>NaN</td>\n",
       "      <td>0</td>\n",
       "      <td>ACC-2828321672</td>\n",
       "      <td>AUD</td>\n",
       "      <td>153.03 -27.51</td>\n",
       "      <td>PAY/SALARY</td>\n",
       "      <td>NaN</td>\n",
       "      <td>0.0</td>\n",
       "      <td>Stephanie</td>\n",
       "      <td>...</td>\n",
       "      <td>NaN</td>\n",
       "      <td>NaN</td>\n",
       "      <td>2018-09-04T16:00:00.000+0000</td>\n",
       "      <td>970.47</td>\n",
       "      <td>e588bd113b3645ee82fb386e336c42a1</td>\n",
       "      <td>Australia</td>\n",
       "      <td>CUS-1005756958</td>\n",
       "      <td>NaN</td>\n",
       "      <td>credit</td>\n",
       "      <td>9</td>\n",
       "    </tr>\n",
       "    <tr>\n",
       "      <th>8142</th>\n",
       "      <td>posted</td>\n",
       "      <td>NaN</td>\n",
       "      <td>0</td>\n",
       "      <td>ACC-2828321672</td>\n",
       "      <td>AUD</td>\n",
       "      <td>153.03 -27.51</td>\n",
       "      <td>PAY/SALARY</td>\n",
       "      <td>NaN</td>\n",
       "      <td>0.0</td>\n",
       "      <td>Stephanie</td>\n",
       "      <td>...</td>\n",
       "      <td>NaN</td>\n",
       "      <td>NaN</td>\n",
       "      <td>2018-10-02T16:00:00.000+0000</td>\n",
       "      <td>970.47</td>\n",
       "      <td>6a0796f6e44c4d49b288a593bdc23503</td>\n",
       "      <td>Australia</td>\n",
       "      <td>CUS-1005756958</td>\n",
       "      <td>NaN</td>\n",
       "      <td>credit</td>\n",
       "      <td>10</td>\n",
       "    </tr>\n",
       "    <tr>\n",
       "      <th>1744</th>\n",
       "      <td>posted</td>\n",
       "      <td>NaN</td>\n",
       "      <td>0</td>\n",
       "      <td>ACC-2828321672</td>\n",
       "      <td>AUD</td>\n",
       "      <td>153.03 -27.51</td>\n",
       "      <td>PAY/SALARY</td>\n",
       "      <td>NaN</td>\n",
       "      <td>0.0</td>\n",
       "      <td>Stephanie</td>\n",
       "      <td>...</td>\n",
       "      <td>NaN</td>\n",
       "      <td>NaN</td>\n",
       "      <td>2018-08-14T16:00:00.000+0000</td>\n",
       "      <td>970.47</td>\n",
       "      <td>deaff82de78840f08a035e5404ce5e29</td>\n",
       "      <td>Australia</td>\n",
       "      <td>CUS-1005756958</td>\n",
       "      <td>NaN</td>\n",
       "      <td>credit</td>\n",
       "      <td>8</td>\n",
       "    </tr>\n",
       "    <tr>\n",
       "      <th>6271</th>\n",
       "      <td>posted</td>\n",
       "      <td>NaN</td>\n",
       "      <td>0</td>\n",
       "      <td>ACC-2828321672</td>\n",
       "      <td>AUD</td>\n",
       "      <td>153.03 -27.51</td>\n",
       "      <td>PAY/SALARY</td>\n",
       "      <td>NaN</td>\n",
       "      <td>0.0</td>\n",
       "      <td>Stephanie</td>\n",
       "      <td>...</td>\n",
       "      <td>NaN</td>\n",
       "      <td>NaN</td>\n",
       "      <td>2018-09-18T16:00:00.000+0000</td>\n",
       "      <td>970.47</td>\n",
       "      <td>6b622e0b12324ac2a1b6c946f43bce04</td>\n",
       "      <td>Australia</td>\n",
       "      <td>CUS-1005756958</td>\n",
       "      <td>NaN</td>\n",
       "      <td>credit</td>\n",
       "      <td>9</td>\n",
       "    </tr>\n",
       "  </tbody>\n",
       "</table>\n",
       "<p>5 rows × 24 columns</p>\n",
       "</div>"
      ],
      "text/plain": [
       "      status  card_present_flag bpay_biller_code         account currency  \\\n",
       "2530  posted                NaN                0  ACC-2828321672      AUD   \n",
       "4402  posted                NaN                0  ACC-2828321672      AUD   \n",
       "8142  posted                NaN                0  ACC-2828321672      AUD   \n",
       "1744  posted                NaN                0  ACC-2828321672      AUD   \n",
       "6271  posted                NaN                0  ACC-2828321672      AUD   \n",
       "\n",
       "           long_lat txn_description merchant_id  merchant_code first_name  \\\n",
       "2530  153.03 -27.51      PAY/SALARY         NaN            0.0  Stephanie   \n",
       "4402  153.03 -27.51      PAY/SALARY         NaN            0.0  Stephanie   \n",
       "8142  153.03 -27.51      PAY/SALARY         NaN            0.0  Stephanie   \n",
       "1744  153.03 -27.51      PAY/SALARY         NaN            0.0  Stephanie   \n",
       "6271  153.03 -27.51      PAY/SALARY         NaN            0.0  Stephanie   \n",
       "\n",
       "      ...  merchant_suburb merchant_state                    extraction  \\\n",
       "2530  ...              NaN            NaN  2018-08-21T16:00:00.000+0000   \n",
       "4402  ...              NaN            NaN  2018-09-04T16:00:00.000+0000   \n",
       "8142  ...              NaN            NaN  2018-10-02T16:00:00.000+0000   \n",
       "1744  ...              NaN            NaN  2018-08-14T16:00:00.000+0000   \n",
       "6271  ...              NaN            NaN  2018-09-18T16:00:00.000+0000   \n",
       "\n",
       "      amount                    transaction_id    country     customer_id  \\\n",
       "2530  970.47  71cd874fc20741f8b4a589c8286afeb2  Australia  CUS-1005756958   \n",
       "4402  970.47  e588bd113b3645ee82fb386e336c42a1  Australia  CUS-1005756958   \n",
       "8142  970.47  6a0796f6e44c4d49b288a593bdc23503  Australia  CUS-1005756958   \n",
       "1744  970.47  deaff82de78840f08a035e5404ce5e29  Australia  CUS-1005756958   \n",
       "6271  970.47  6b622e0b12324ac2a1b6c946f43bce04  Australia  CUS-1005756958   \n",
       "\n",
       "      merchant_long_lat movement month  \n",
       "2530                NaN   credit     8  \n",
       "4402                NaN   credit     9  \n",
       "8142                NaN   credit    10  \n",
       "1744                NaN   credit     8  \n",
       "6271                NaN   credit     9  \n",
       "\n",
       "[5 rows x 24 columns]"
      ]
     },
     "execution_count": 6,
     "metadata": {},
     "output_type": "execute_result"
    }
   ],
   "source": [
    "df_salary_payment = df[df['txn_description']== 'PAY/SALARY'].copy()\n",
    "df_salary_payment.sort_values(by=['customer_id'], inplace=True)\n",
    "df_salary_payment.head(5)"
   ]
  },
  {
   "cell_type": "code",
   "execution_count": 7,
   "metadata": {},
   "outputs": [],
   "source": [
    "df_salary_payment_details = df_salary_payment[['customer_id', 'month', 'amount']]\n",
    "df_customer_salary = df_salary_payment_details.copy()"
   ]
  },
  {
   "cell_type": "code",
   "execution_count": 8,
   "metadata": {},
   "outputs": [
    {
     "data": {
      "text/html": [
       "<div>\n",
       "<style scoped>\n",
       "    .dataframe tbody tr th:only-of-type {\n",
       "        vertical-align: middle;\n",
       "    }\n",
       "\n",
       "    .dataframe tbody tr th {\n",
       "        vertical-align: top;\n",
       "    }\n",
       "\n",
       "    .dataframe thead th {\n",
       "        text-align: right;\n",
       "    }\n",
       "</style>\n",
       "<table border=\"1\" class=\"dataframe\">\n",
       "  <thead>\n",
       "    <tr style=\"text-align: right;\">\n",
       "      <th></th>\n",
       "      <th>customer_id</th>\n",
       "      <th>month</th>\n",
       "      <th>amount_month</th>\n",
       "    </tr>\n",
       "  </thead>\n",
       "  <tbody>\n",
       "    <tr>\n",
       "      <th>0</th>\n",
       "      <td>CUS-1005756958</td>\n",
       "      <td>8</td>\n",
       "      <td>3881.88</td>\n",
       "    </tr>\n",
       "    <tr>\n",
       "      <th>1</th>\n",
       "      <td>CUS-1005756958</td>\n",
       "      <td>9</td>\n",
       "      <td>3881.88</td>\n",
       "    </tr>\n",
       "    <tr>\n",
       "      <th>2</th>\n",
       "      <td>CUS-1005756958</td>\n",
       "      <td>10</td>\n",
       "      <td>4852.35</td>\n",
       "    </tr>\n",
       "    <tr>\n",
       "      <th>3</th>\n",
       "      <td>CUS-1117979751</td>\n",
       "      <td>8</td>\n",
       "      <td>7157.30</td>\n",
       "    </tr>\n",
       "    <tr>\n",
       "      <th>4</th>\n",
       "      <td>CUS-1117979751</td>\n",
       "      <td>9</td>\n",
       "      <td>7157.30</td>\n",
       "    </tr>\n",
       "    <tr>\n",
       "      <th>5</th>\n",
       "      <td>CUS-1117979751</td>\n",
       "      <td>10</td>\n",
       "      <td>10735.95</td>\n",
       "    </tr>\n",
       "  </tbody>\n",
       "</table>\n",
       "</div>"
      ],
      "text/plain": [
       "      customer_id  month  amount_month\n",
       "0  CUS-1005756958      8       3881.88\n",
       "1  CUS-1005756958      9       3881.88\n",
       "2  CUS-1005756958     10       4852.35\n",
       "3  CUS-1117979751      8       7157.30\n",
       "4  CUS-1117979751      9       7157.30\n",
       "5  CUS-1117979751     10      10735.95"
      ]
     },
     "execution_count": 8,
     "metadata": {},
     "output_type": "execute_result"
    }
   ],
   "source": [
    "# Calculate customer salary payment per month\n",
    "df_customer_salary = df_salary_payment_details.groupby(by=['customer_id', 'month'], as_index = False).sum()\n",
    "df_customer_salary.rename(columns={'amount': 'amount_month'}, inplace=True)\n",
    "df_customer_salary.head(6)"
   ]
  },
  {
   "cell_type": "code",
   "execution_count": 9,
   "metadata": {},
   "outputs": [
    {
     "data": {
      "text/html": [
       "<div>\n",
       "<style scoped>\n",
       "    .dataframe tbody tr th:only-of-type {\n",
       "        vertical-align: middle;\n",
       "    }\n",
       "\n",
       "    .dataframe tbody tr th {\n",
       "        vertical-align: top;\n",
       "    }\n",
       "\n",
       "    .dataframe thead th {\n",
       "        text-align: right;\n",
       "    }\n",
       "</style>\n",
       "<table border=\"1\" class=\"dataframe\">\n",
       "  <thead>\n",
       "    <tr style=\"text-align: right;\">\n",
       "      <th></th>\n",
       "      <th>customer_id</th>\n",
       "      <th>month</th>\n",
       "      <th>amount_month</th>\n",
       "      <th>num_of_payments</th>\n",
       "    </tr>\n",
       "  </thead>\n",
       "  <tbody>\n",
       "    <tr>\n",
       "      <th>0</th>\n",
       "      <td>CUS-1005756958</td>\n",
       "      <td>8</td>\n",
       "      <td>3881.88</td>\n",
       "      <td>4</td>\n",
       "    </tr>\n",
       "    <tr>\n",
       "      <th>1</th>\n",
       "      <td>CUS-1005756958</td>\n",
       "      <td>9</td>\n",
       "      <td>3881.88</td>\n",
       "      <td>4</td>\n",
       "    </tr>\n",
       "    <tr>\n",
       "      <th>2</th>\n",
       "      <td>CUS-1005756958</td>\n",
       "      <td>10</td>\n",
       "      <td>4852.35</td>\n",
       "      <td>5</td>\n",
       "    </tr>\n",
       "    <tr>\n",
       "      <th>3</th>\n",
       "      <td>CUS-1117979751</td>\n",
       "      <td>8</td>\n",
       "      <td>7157.30</td>\n",
       "      <td>2</td>\n",
       "    </tr>\n",
       "    <tr>\n",
       "      <th>4</th>\n",
       "      <td>CUS-1117979751</td>\n",
       "      <td>9</td>\n",
       "      <td>7157.30</td>\n",
       "      <td>2</td>\n",
       "    </tr>\n",
       "    <tr>\n",
       "      <th>5</th>\n",
       "      <td>CUS-1117979751</td>\n",
       "      <td>10</td>\n",
       "      <td>10735.95</td>\n",
       "      <td>3</td>\n",
       "    </tr>\n",
       "  </tbody>\n",
       "</table>\n",
       "</div>"
      ],
      "text/plain": [
       "      customer_id  month  amount_month  num_of_payments\n",
       "0  CUS-1005756958      8       3881.88                4\n",
       "1  CUS-1005756958      9       3881.88                4\n",
       "2  CUS-1005756958     10       4852.35                5\n",
       "3  CUS-1117979751      8       7157.30                2\n",
       "4  CUS-1117979751      9       7157.30                2\n",
       "5  CUS-1117979751     10      10735.95                3"
      ]
     },
     "execution_count": 9,
     "metadata": {},
     "output_type": "execute_result"
    }
   ],
   "source": [
    "# Calculate customer number of salary payments per month\n",
    "df_num_salary = df_salary_payment_details.groupby(by=['customer_id', 'month'] , as_index = False).count()\n",
    "df_customer_salary['num_of_payments'] = df_num_salary['amount']\n",
    "df_customer_salary.head(6)"
   ]
  },
  {
   "cell_type": "code",
   "execution_count": 10,
   "metadata": {},
   "outputs": [
    {
     "data": {
      "text/html": [
       "<div>\n",
       "<style scoped>\n",
       "    .dataframe tbody tr th:only-of-type {\n",
       "        vertical-align: middle;\n",
       "    }\n",
       "\n",
       "    .dataframe tbody tr th {\n",
       "        vertical-align: top;\n",
       "    }\n",
       "\n",
       "    .dataframe thead th {\n",
       "        text-align: right;\n",
       "    }\n",
       "</style>\n",
       "<table border=\"1\" class=\"dataframe\">\n",
       "  <thead>\n",
       "    <tr style=\"text-align: right;\">\n",
       "      <th></th>\n",
       "      <th>customer_id</th>\n",
       "      <th>month</th>\n",
       "      <th>amount_month</th>\n",
       "      <th>num_of_payments</th>\n",
       "      <th>base_salary</th>\n",
       "    </tr>\n",
       "  </thead>\n",
       "  <tbody>\n",
       "    <tr>\n",
       "      <th>0</th>\n",
       "      <td>CUS-1005756958</td>\n",
       "      <td>8</td>\n",
       "      <td>3881.88</td>\n",
       "      <td>4</td>\n",
       "      <td>970.47</td>\n",
       "    </tr>\n",
       "    <tr>\n",
       "      <th>1</th>\n",
       "      <td>CUS-1005756958</td>\n",
       "      <td>9</td>\n",
       "      <td>3881.88</td>\n",
       "      <td>4</td>\n",
       "      <td>970.47</td>\n",
       "    </tr>\n",
       "    <tr>\n",
       "      <th>2</th>\n",
       "      <td>CUS-1005756958</td>\n",
       "      <td>10</td>\n",
       "      <td>4852.35</td>\n",
       "      <td>5</td>\n",
       "      <td>970.47</td>\n",
       "    </tr>\n",
       "    <tr>\n",
       "      <th>3</th>\n",
       "      <td>CUS-1117979751</td>\n",
       "      <td>8</td>\n",
       "      <td>7157.30</td>\n",
       "      <td>2</td>\n",
       "      <td>3578.65</td>\n",
       "    </tr>\n",
       "    <tr>\n",
       "      <th>4</th>\n",
       "      <td>CUS-1117979751</td>\n",
       "      <td>9</td>\n",
       "      <td>7157.30</td>\n",
       "      <td>2</td>\n",
       "      <td>3578.65</td>\n",
       "    </tr>\n",
       "    <tr>\n",
       "      <th>5</th>\n",
       "      <td>CUS-1117979751</td>\n",
       "      <td>10</td>\n",
       "      <td>10735.95</td>\n",
       "      <td>3</td>\n",
       "      <td>3578.65</td>\n",
       "    </tr>\n",
       "  </tbody>\n",
       "</table>\n",
       "</div>"
      ],
      "text/plain": [
       "      customer_id  month  amount_month  num_of_payments  base_salary\n",
       "0  CUS-1005756958      8       3881.88                4       970.47\n",
       "1  CUS-1005756958      9       3881.88                4       970.47\n",
       "2  CUS-1005756958     10       4852.35                5       970.47\n",
       "3  CUS-1117979751      8       7157.30                2      3578.65\n",
       "4  CUS-1117979751      9       7157.30                2      3578.65\n",
       "5  CUS-1117979751     10      10735.95                3      3578.65"
      ]
     },
     "execution_count": 10,
     "metadata": {},
     "output_type": "execute_result"
    }
   ],
   "source": [
    "# Calculate customer base salary payment\n",
    "df_base_salary = df_salary_payment_details.groupby(by=['customer_id', 'month'], as_index = False).agg(np.average)\n",
    "df_customer_salary['base_salary'] = df_base_salary['amount']\n",
    "df_customer_salary.head(6)"
   ]
  },
  {
   "cell_type": "markdown",
   "metadata": {},
   "source": [
    "### Calculate Annual Salary Payment per Customer"
   ]
  },
  {
   "cell_type": "code",
   "execution_count": 11,
   "metadata": {},
   "outputs": [
    {
     "data": {
      "text/html": [
       "<div>\n",
       "<style scoped>\n",
       "    .dataframe tbody tr th:only-of-type {\n",
       "        vertical-align: middle;\n",
       "    }\n",
       "\n",
       "    .dataframe tbody tr th {\n",
       "        vertical-align: top;\n",
       "    }\n",
       "\n",
       "    .dataframe thead th {\n",
       "        text-align: right;\n",
       "    }\n",
       "</style>\n",
       "<table border=\"1\" class=\"dataframe\">\n",
       "  <thead>\n",
       "    <tr style=\"text-align: right;\">\n",
       "      <th></th>\n",
       "      <th>customer_id</th>\n",
       "      <th>annual_salary</th>\n",
       "    </tr>\n",
       "  </thead>\n",
       "  <tbody>\n",
       "    <tr>\n",
       "      <th>0</th>\n",
       "      <td>CUS-1005756958</td>\n",
       "      <td>12616.11</td>\n",
       "    </tr>\n",
       "    <tr>\n",
       "      <th>1</th>\n",
       "      <td>CUS-1117979751</td>\n",
       "      <td>25050.55</td>\n",
       "    </tr>\n",
       "    <tr>\n",
       "      <th>2</th>\n",
       "      <td>CUS-1140341822</td>\n",
       "      <td>11499.06</td>\n",
       "    </tr>\n",
       "    <tr>\n",
       "      <th>3</th>\n",
       "      <td>CUS-1147642491</td>\n",
       "      <td>22248.07</td>\n",
       "    </tr>\n",
       "    <tr>\n",
       "      <th>4</th>\n",
       "      <td>CUS-1196156254</td>\n",
       "      <td>27326.11</td>\n",
       "    </tr>\n",
       "    <tr>\n",
       "      <th>5</th>\n",
       "      <td>CUS-1220154422</td>\n",
       "      <td>15976.52</td>\n",
       "    </tr>\n",
       "  </tbody>\n",
       "</table>\n",
       "</div>"
      ],
      "text/plain": [
       "      customer_id  annual_salary\n",
       "0  CUS-1005756958       12616.11\n",
       "1  CUS-1117979751       25050.55\n",
       "2  CUS-1140341822       11499.06\n",
       "3  CUS-1147642491       22248.07\n",
       "4  CUS-1196156254       27326.11\n",
       "5  CUS-1220154422       15976.52"
      ]
     },
     "execution_count": 11,
     "metadata": {},
     "output_type": "execute_result"
    }
   ],
   "source": [
    "df_annual_salary = df_salary_payment_details.drop(columns=['month'])\n",
    "df_annual_salary = df_annual_salary.groupby(['customer_id'], as_index = False).sum()\n",
    "df_annual_salary.rename(columns={'amount': 'annual_salary'}, inplace=True)\n",
    "df_annual_salary.head(6)"
   ]
  },
  {
   "cell_type": "code",
   "execution_count": 12,
   "metadata": {},
   "outputs": [
    {
     "data": {
      "text/html": [
       "<div>\n",
       "<style scoped>\n",
       "    .dataframe tbody tr th:only-of-type {\n",
       "        vertical-align: middle;\n",
       "    }\n",
       "\n",
       "    .dataframe tbody tr th {\n",
       "        vertical-align: top;\n",
       "    }\n",
       "\n",
       "    .dataframe thead th {\n",
       "        text-align: right;\n",
       "    }\n",
       "</style>\n",
       "<table border=\"1\" class=\"dataframe\">\n",
       "  <thead>\n",
       "    <tr style=\"text-align: right;\">\n",
       "      <th></th>\n",
       "      <th>customer_id</th>\n",
       "      <th>annual_salary</th>\n",
       "      <th>num_payments</th>\n",
       "    </tr>\n",
       "  </thead>\n",
       "  <tbody>\n",
       "    <tr>\n",
       "      <th>0</th>\n",
       "      <td>CUS-1005756958</td>\n",
       "      <td>12616.11</td>\n",
       "      <td>13</td>\n",
       "    </tr>\n",
       "    <tr>\n",
       "      <th>1</th>\n",
       "      <td>CUS-1117979751</td>\n",
       "      <td>25050.55</td>\n",
       "      <td>7</td>\n",
       "    </tr>\n",
       "    <tr>\n",
       "      <th>2</th>\n",
       "      <td>CUS-1140341822</td>\n",
       "      <td>11499.06</td>\n",
       "      <td>6</td>\n",
       "    </tr>\n",
       "    <tr>\n",
       "      <th>3</th>\n",
       "      <td>CUS-1147642491</td>\n",
       "      <td>22248.07</td>\n",
       "      <td>13</td>\n",
       "    </tr>\n",
       "    <tr>\n",
       "      <th>4</th>\n",
       "      <td>CUS-1196156254</td>\n",
       "      <td>27326.11</td>\n",
       "      <td>7</td>\n",
       "    </tr>\n",
       "    <tr>\n",
       "      <th>5</th>\n",
       "      <td>CUS-1220154422</td>\n",
       "      <td>15976.52</td>\n",
       "      <td>7</td>\n",
       "    </tr>\n",
       "  </tbody>\n",
       "</table>\n",
       "</div>"
      ],
      "text/plain": [
       "      customer_id  annual_salary  num_payments\n",
       "0  CUS-1005756958       12616.11            13\n",
       "1  CUS-1117979751       25050.55             7\n",
       "2  CUS-1140341822       11499.06             6\n",
       "3  CUS-1147642491       22248.07            13\n",
       "4  CUS-1196156254       27326.11             7\n",
       "5  CUS-1220154422       15976.52             7"
      ]
     },
     "execution_count": 12,
     "metadata": {},
     "output_type": "execute_result"
    }
   ],
   "source": [
    "df_total_payments = df_customer_salary[['customer_id', 'num_of_payments']].groupby(['customer_id'], as_index=False).sum()\n",
    "df_annual_salary['num_payments'] = df_total_payments['num_of_payments']\n",
    "df_annual_salary.head(6)"
   ]
  },
  {
   "cell_type": "code",
   "execution_count": 13,
   "metadata": {},
   "outputs": [
    {
     "data": {
      "text/html": [
       "<div>\n",
       "<style scoped>\n",
       "    .dataframe tbody tr th:only-of-type {\n",
       "        vertical-align: middle;\n",
       "    }\n",
       "\n",
       "    .dataframe tbody tr th {\n",
       "        vertical-align: top;\n",
       "    }\n",
       "\n",
       "    .dataframe thead th {\n",
       "        text-align: right;\n",
       "    }\n",
       "</style>\n",
       "<table border=\"1\" class=\"dataframe\">\n",
       "  <thead>\n",
       "    <tr style=\"text-align: right;\">\n",
       "      <th></th>\n",
       "      <th>customer_id</th>\n",
       "      <th>annual_salary</th>\n",
       "      <th>num_payments</th>\n",
       "      <th>avg_num_payments</th>\n",
       "    </tr>\n",
       "  </thead>\n",
       "  <tbody>\n",
       "    <tr>\n",
       "      <th>0</th>\n",
       "      <td>CUS-1005756958</td>\n",
       "      <td>12616.11</td>\n",
       "      <td>13</td>\n",
       "      <td>4</td>\n",
       "    </tr>\n",
       "    <tr>\n",
       "      <th>1</th>\n",
       "      <td>CUS-1117979751</td>\n",
       "      <td>25050.55</td>\n",
       "      <td>7</td>\n",
       "      <td>2</td>\n",
       "    </tr>\n",
       "    <tr>\n",
       "      <th>2</th>\n",
       "      <td>CUS-1140341822</td>\n",
       "      <td>11499.06</td>\n",
       "      <td>6</td>\n",
       "      <td>2</td>\n",
       "    </tr>\n",
       "    <tr>\n",
       "      <th>3</th>\n",
       "      <td>CUS-1147642491</td>\n",
       "      <td>22248.07</td>\n",
       "      <td>13</td>\n",
       "      <td>4</td>\n",
       "    </tr>\n",
       "    <tr>\n",
       "      <th>4</th>\n",
       "      <td>CUS-1196156254</td>\n",
       "      <td>27326.11</td>\n",
       "      <td>7</td>\n",
       "      <td>2</td>\n",
       "    </tr>\n",
       "    <tr>\n",
       "      <th>5</th>\n",
       "      <td>CUS-1220154422</td>\n",
       "      <td>15976.52</td>\n",
       "      <td>7</td>\n",
       "      <td>2</td>\n",
       "    </tr>\n",
       "  </tbody>\n",
       "</table>\n",
       "</div>"
      ],
      "text/plain": [
       "      customer_id  annual_salary  num_payments  avg_num_payments\n",
       "0  CUS-1005756958       12616.11            13                 4\n",
       "1  CUS-1117979751       25050.55             7                 2\n",
       "2  CUS-1140341822       11499.06             6                 2\n",
       "3  CUS-1147642491       22248.07            13                 4\n",
       "4  CUS-1196156254       27326.11             7                 2\n",
       "5  CUS-1220154422       15976.52             7                 2"
      ]
     },
     "execution_count": 13,
     "metadata": {},
     "output_type": "execute_result"
    }
   ],
   "source": [
    "df_annual_salary['avg_num_payments'] = df_annual_salary['num_payments'].apply(lambda x : round(x/3.))\n",
    "df_annual_salary.head(6)"
   ]
  },
  {
   "cell_type": "code",
   "execution_count": 14,
   "metadata": {
    "scrolled": false
   },
   "outputs": [
    {
     "data": {
      "text/plain": [
       "<matplotlib.axes._subplots.AxesSubplot at 0x1d3f4100470>"
      ]
     },
     "execution_count": 14,
     "metadata": {},
     "output_type": "execute_result"
    },
    {
     "data": {
      "image/png": "[encoded data removed]",
      "text/plain": [
       "<Figure size 432x288 with 1 Axes>"
      ]
     },
     "metadata": {
      "needs_background": "light"
     },
     "output_type": "display_data"
    }
   ],
   "source": [
    "df_annual_salary['annual_salary'].hist(bins=10)"
   ]
  },
  {
   "cell_type": "markdown",
   "metadata": {},
   "source": [
    "Approximately 3 people are the ones with the highest payment salaries."
   ]
  },
  {
   "cell_type": "code",
   "execution_count": 15,
   "metadata": {
    "scrolled": true
   },
   "outputs": [
    {
     "data": {
      "text/plain": [
       "<matplotlib.axes._subplots.AxesSubplot at 0x1d3f486e470>"
      ]
     },
     "execution_count": 15,
     "metadata": {},
     "output_type": "execute_result"
    },
    {
     "data": {
      "image/png": "[encoded data removed]",
      "text/plain": [
       "<Figure size 432x288 with 1 Axes>"
      ]
     },
     "metadata": {
      "needs_background": "light"
     },
     "output_type": "display_data"
    }
   ],
   "source": [
    "df_annual_salary['avg_num_payments'].hist(bins=10)"
   ]
  },
  {
   "cell_type": "markdown",
   "metadata": {},
   "source": [
    "A little more than half of 100 customers have 2 payments per month. And one third has 4 payments per month. Could be an important feature to take into consideration."
   ]
  },
  {
   "cell_type": "code",
   "execution_count": 16,
   "metadata": {},
   "outputs": [
    {
     "data": {
      "text/html": [
       "<div>\n",
       "<style scoped>\n",
       "    .dataframe tbody tr th:only-of-type {\n",
       "        vertical-align: middle;\n",
       "    }\n",
       "\n",
       "    .dataframe tbody tr th {\n",
       "        vertical-align: top;\n",
       "    }\n",
       "\n",
       "    .dataframe thead th {\n",
       "        text-align: right;\n",
       "    }\n",
       "</style>\n",
       "<table border=\"1\" class=\"dataframe\">\n",
       "  <thead>\n",
       "    <tr style=\"text-align: right;\">\n",
       "      <th></th>\n",
       "      <th>customer_id</th>\n",
       "      <th>annual_salary</th>\n",
       "      <th>num_payments</th>\n",
       "      <th>avg_num_payments</th>\n",
       "    </tr>\n",
       "  </thead>\n",
       "  <tbody>\n",
       "    <tr>\n",
       "      <th>0</th>\n",
       "      <td>CUS-1005756958</td>\n",
       "      <td>12616.11</td>\n",
       "      <td>13</td>\n",
       "      <td>4</td>\n",
       "    </tr>\n",
       "  </tbody>\n",
       "</table>\n",
       "</div>"
      ],
      "text/plain": [
       "      customer_id  annual_salary  num_payments  avg_num_payments\n",
       "0  CUS-1005756958       12616.11            13                 4"
      ]
     },
     "execution_count": 16,
     "metadata": {},
     "output_type": "execute_result"
    }
   ],
   "source": [
    "df_annual_salary[df_annual_salary['customer_id'] == 'CUS-1005756958']"
   ]
  },
  {
   "cell_type": "code",
   "execution_count": 17,
   "metadata": {
    "scrolled": true
   },
   "outputs": [
    {
     "data": {
      "text/html": [
       "<div>\n",
       "<style scoped>\n",
       "    .dataframe tbody tr th:only-of-type {\n",
       "        vertical-align: middle;\n",
       "    }\n",
       "\n",
       "    .dataframe tbody tr th {\n",
       "        vertical-align: top;\n",
       "    }\n",
       "\n",
       "    .dataframe thead th {\n",
       "        text-align: right;\n",
       "    }\n",
       "</style>\n",
       "<table border=\"1\" class=\"dataframe\">\n",
       "  <thead>\n",
       "    <tr style=\"text-align: right;\">\n",
       "      <th></th>\n",
       "      <th>customer_id</th>\n",
       "      <th>month</th>\n",
       "      <th>amount_month</th>\n",
       "      <th>num_of_payments</th>\n",
       "      <th>base_salary</th>\n",
       "    </tr>\n",
       "  </thead>\n",
       "  <tbody>\n",
       "    <tr>\n",
       "      <th>0</th>\n",
       "      <td>CUS-1005756958</td>\n",
       "      <td>8</td>\n",
       "      <td>3881.88</td>\n",
       "      <td>4</td>\n",
       "      <td>970.47</td>\n",
       "    </tr>\n",
       "    <tr>\n",
       "      <th>1</th>\n",
       "      <td>CUS-1005756958</td>\n",
       "      <td>9</td>\n",
       "      <td>3881.88</td>\n",
       "      <td>4</td>\n",
       "      <td>970.47</td>\n",
       "    </tr>\n",
       "    <tr>\n",
       "      <th>2</th>\n",
       "      <td>CUS-1005756958</td>\n",
       "      <td>10</td>\n",
       "      <td>4852.35</td>\n",
       "      <td>5</td>\n",
       "      <td>970.47</td>\n",
       "    </tr>\n",
       "  </tbody>\n",
       "</table>\n",
       "</div>"
      ],
      "text/plain": [
       "      customer_id  month  amount_month  num_of_payments  base_salary\n",
       "0  CUS-1005756958      8       3881.88                4       970.47\n",
       "1  CUS-1005756958      9       3881.88                4       970.47\n",
       "2  CUS-1005756958     10       4852.35                5       970.47"
      ]
     },
     "execution_count": 17,
     "metadata": {},
     "output_type": "execute_result"
    }
   ],
   "source": [
    "df_customer_salary[df_customer_salary['customer_id'] == 'CUS-1005756958']"
   ]
  },
  {
   "cell_type": "markdown",
   "metadata": {},
   "source": [
    "- The revelant fields in \"df_annual_salary\" are 'amount' and 'avg_num_payments' \n",
    "\n",
    "- The revelant field in \"df_customer_salary\" is 'salary' "
   ]
  },
  {
   "cell_type": "markdown",
   "metadata": {},
   "source": [
    "## Explore correlations between annual salary and various customer attributes"
   ]
  },
  {
   "cell_type": "markdown",
   "metadata": {},
   "source": [
    "There are some original features( readily available in the data) that can be relevant to compare against annual salary, such as: 'age', 'gender', 'long_lat' and 'balance'"
   ]
  },
  {
   "cell_type": "code",
   "execution_count": 18,
   "metadata": {},
   "outputs": [
    {
     "data": {
      "text/plain": [
       "customer_id    100\n",
       "age             33\n",
       "gender           2\n",
       "long_lat       100\n",
       "balance        883\n",
       "dtype: int64"
      ]
     },
     "execution_count": 18,
     "metadata": {},
     "output_type": "execute_result"
    }
   ],
   "source": [
    "df_salary_payment[['customer_id','age','gender','long_lat','balance']].nunique()"
   ]
  },
  {
   "cell_type": "markdown",
   "metadata": {},
   "source": [
    "It seems the feature BALANCE has different values in each customer. It needs to be average per each customer. "
   ]
  },
  {
   "cell_type": "code",
   "execution_count": 19,
   "metadata": {
    "scrolled": false
   },
   "outputs": [
    {
     "data": {
      "text/html": [
       "<div>\n",
       "<style scoped>\n",
       "    .dataframe tbody tr th:only-of-type {\n",
       "        vertical-align: middle;\n",
       "    }\n",
       "\n",
       "    .dataframe tbody tr th {\n",
       "        vertical-align: top;\n",
       "    }\n",
       "\n",
       "    .dataframe thead th {\n",
       "        text-align: right;\n",
       "    }\n",
       "</style>\n",
       "<table border=\"1\" class=\"dataframe\">\n",
       "  <thead>\n",
       "    <tr style=\"text-align: right;\">\n",
       "      <th></th>\n",
       "      <th>customer_id</th>\n",
       "      <th>balance</th>\n",
       "    </tr>\n",
       "  </thead>\n",
       "  <tbody>\n",
       "    <tr>\n",
       "      <th>0</th>\n",
       "      <td>CUS-1005756958</td>\n",
       "      <td>4718.665385</td>\n",
       "    </tr>\n",
       "    <tr>\n",
       "      <th>1</th>\n",
       "      <td>CUS-1117979751</td>\n",
       "      <td>11957.202857</td>\n",
       "    </tr>\n",
       "    <tr>\n",
       "      <th>2</th>\n",
       "      <td>CUS-1140341822</td>\n",
       "      <td>5841.720000</td>\n",
       "    </tr>\n",
       "    <tr>\n",
       "      <th>3</th>\n",
       "      <td>CUS-1147642491</td>\n",
       "      <td>8813.467692</td>\n",
       "    </tr>\n",
       "    <tr>\n",
       "      <th>4</th>\n",
       "      <td>CUS-1196156254</td>\n",
       "      <td>23845.717143</td>\n",
       "    </tr>\n",
       "    <tr>\n",
       "      <th>5</th>\n",
       "      <td>CUS-1220154422</td>\n",
       "      <td>9225.907143</td>\n",
       "    </tr>\n",
       "  </tbody>\n",
       "</table>\n",
       "</div>"
      ],
      "text/plain": [
       "      customer_id       balance\n",
       "0  CUS-1005756958   4718.665385\n",
       "1  CUS-1117979751  11957.202857\n",
       "2  CUS-1140341822   5841.720000\n",
       "3  CUS-1147642491   8813.467692\n",
       "4  CUS-1196156254  23845.717143\n",
       "5  CUS-1220154422   9225.907143"
      ]
     },
     "execution_count": 19,
     "metadata": {},
     "output_type": "execute_result"
    }
   ],
   "source": [
    "# Calculating the average of balance for each customer.\n",
    "df_avg_balance = df_salary_payment[['customer_id','balance']].groupby(['customer_id'], as_index=False).mean()\n",
    "df_avg_balance.head(6)"
   ]
  },
  {
   "cell_type": "markdown",
   "metadata": {},
   "source": [
    "## Get unique data per customer"
   ]
  },
  {
   "cell_type": "code",
   "execution_count": 20,
   "metadata": {},
   "outputs": [
    {
     "data": {
      "text/html": [
       "<div>\n",
       "<style scoped>\n",
       "    .dataframe tbody tr th:only-of-type {\n",
       "        vertical-align: middle;\n",
       "    }\n",
       "\n",
       "    .dataframe tbody tr th {\n",
       "        vertical-align: top;\n",
       "    }\n",
       "\n",
       "    .dataframe thead th {\n",
       "        text-align: right;\n",
       "    }\n",
       "</style>\n",
       "<table border=\"1\" class=\"dataframe\">\n",
       "  <thead>\n",
       "    <tr style=\"text-align: right;\">\n",
       "      <th></th>\n",
       "      <th>customer_id</th>\n",
       "      <th>age</th>\n",
       "      <th>gender</th>\n",
       "      <th>long_lat</th>\n",
       "    </tr>\n",
       "  </thead>\n",
       "  <tbody>\n",
       "    <tr>\n",
       "      <th>0</th>\n",
       "      <td>CUS-1005756958</td>\n",
       "      <td>53</td>\n",
       "      <td>F</td>\n",
       "      <td>153.03 -27.51</td>\n",
       "    </tr>\n",
       "    <tr>\n",
       "      <th>1</th>\n",
       "      <td>CUS-1117979751</td>\n",
       "      <td>21</td>\n",
       "      <td>M</td>\n",
       "      <td>115.81 -31.82</td>\n",
       "    </tr>\n",
       "    <tr>\n",
       "      <th>2</th>\n",
       "      <td>CUS-1140341822</td>\n",
       "      <td>28</td>\n",
       "      <td>M</td>\n",
       "      <td>144.97 -37.42</td>\n",
       "    </tr>\n",
       "    <tr>\n",
       "      <th>3</th>\n",
       "      <td>CUS-1147642491</td>\n",
       "      <td>34</td>\n",
       "      <td>F</td>\n",
       "      <td>151.04 -33.77</td>\n",
       "    </tr>\n",
       "    <tr>\n",
       "      <th>4</th>\n",
       "      <td>CUS-1196156254</td>\n",
       "      <td>34</td>\n",
       "      <td>F</td>\n",
       "      <td>138.52 -35.01</td>\n",
       "    </tr>\n",
       "    <tr>\n",
       "      <th>5</th>\n",
       "      <td>CUS-1220154422</td>\n",
       "      <td>25</td>\n",
       "      <td>F</td>\n",
       "      <td>150.50 -23.40</td>\n",
       "    </tr>\n",
       "  </tbody>\n",
       "</table>\n",
       "</div>"
      ],
      "text/plain": [
       "      customer_id  age gender       long_lat\n",
       "0  CUS-1005756958   53      F  153.03 -27.51\n",
       "1  CUS-1117979751   21      M  115.81 -31.82\n",
       "2  CUS-1140341822   28      M  144.97 -37.42\n",
       "3  CUS-1147642491   34      F  151.04 -33.77\n",
       "4  CUS-1196156254   34      F  138.52 -35.01\n",
       "5  CUS-1220154422   25      F  150.50 -23.40"
      ]
     },
     "execution_count": 20,
     "metadata": {},
     "output_type": "execute_result"
    }
   ],
   "source": [
    "df_final = df_salary_payment[['customer_id','age','gender','long_lat']].copy()\n",
    "df_final.drop_duplicates('customer_id', inplace=True)\n",
    "df_final.reset_index(drop=True,inplace=True)\n",
    "df_final.head(6)"
   ]
  },
  {
   "cell_type": "code",
   "execution_count": 21,
   "metadata": {},
   "outputs": [],
   "source": [
    "df_final['balance'] = df_avg_balance['balance']"
   ]
  },
  {
   "cell_type": "markdown",
   "metadata": {},
   "source": [
    "Features like GENDER and LOCATION(long_lat) need to be converted to numbers in order to analyze the correlation between salary."
   ]
  },
  {
   "cell_type": "code",
   "execution_count": 22,
   "metadata": {},
   "outputs": [
    {
     "data": {
      "text/html": [
       "<div>\n",
       "<style scoped>\n",
       "    .dataframe tbody tr th:only-of-type {\n",
       "        vertical-align: middle;\n",
       "    }\n",
       "\n",
       "    .dataframe tbody tr th {\n",
       "        vertical-align: top;\n",
       "    }\n",
       "\n",
       "    .dataframe thead th {\n",
       "        text-align: right;\n",
       "    }\n",
       "</style>\n",
       "<table border=\"1\" class=\"dataframe\">\n",
       "  <thead>\n",
       "    <tr style=\"text-align: right;\">\n",
       "      <th></th>\n",
       "      <th>customer_id</th>\n",
       "      <th>age</th>\n",
       "      <th>gender</th>\n",
       "      <th>long_lat</th>\n",
       "      <th>balance</th>\n",
       "    </tr>\n",
       "  </thead>\n",
       "  <tbody>\n",
       "    <tr>\n",
       "      <th>0</th>\n",
       "      <td>CUS-1005756958</td>\n",
       "      <td>53</td>\n",
       "      <td>0</td>\n",
       "      <td>153.03 -27.51</td>\n",
       "      <td>4718.665385</td>\n",
       "    </tr>\n",
       "    <tr>\n",
       "      <th>1</th>\n",
       "      <td>CUS-1117979751</td>\n",
       "      <td>21</td>\n",
       "      <td>0</td>\n",
       "      <td>115.81 -31.82</td>\n",
       "      <td>11957.202857</td>\n",
       "    </tr>\n",
       "    <tr>\n",
       "      <th>2</th>\n",
       "      <td>CUS-1140341822</td>\n",
       "      <td>28</td>\n",
       "      <td>1</td>\n",
       "      <td>144.97 -37.42</td>\n",
       "      <td>5841.720000</td>\n",
       "    </tr>\n",
       "    <tr>\n",
       "      <th>3</th>\n",
       "      <td>CUS-1147642491</td>\n",
       "      <td>34</td>\n",
       "      <td>0</td>\n",
       "      <td>151.04 -33.77</td>\n",
       "      <td>8813.467692</td>\n",
       "    </tr>\n",
       "    <tr>\n",
       "      <th>4</th>\n",
       "      <td>CUS-1196156254</td>\n",
       "      <td>34</td>\n",
       "      <td>0</td>\n",
       "      <td>138.52 -35.01</td>\n",
       "      <td>23845.717143</td>\n",
       "    </tr>\n",
       "    <tr>\n",
       "      <th>5</th>\n",
       "      <td>CUS-1220154422</td>\n",
       "      <td>25</td>\n",
       "      <td>1</td>\n",
       "      <td>150.50 -23.40</td>\n",
       "      <td>9225.907143</td>\n",
       "    </tr>\n",
       "  </tbody>\n",
       "</table>\n",
       "</div>"
      ],
      "text/plain": [
       "      customer_id  age  gender       long_lat       balance\n",
       "0  CUS-1005756958   53       0  153.03 -27.51   4718.665385\n",
       "1  CUS-1117979751   21       0  115.81 -31.82  11957.202857\n",
       "2  CUS-1140341822   28       1  144.97 -37.42   5841.720000\n",
       "3  CUS-1147642491   34       0  151.04 -33.77   8813.467692\n",
       "4  CUS-1196156254   34       0  138.52 -35.01  23845.717143\n",
       "5  CUS-1220154422   25       1  150.50 -23.40   9225.907143"
      ]
     },
     "execution_count": 22,
     "metadata": {},
     "output_type": "execute_result"
    }
   ],
   "source": [
    "# convert gender column to Integer type\n",
    "df_final['gender'] =  df['gender'].map( {'M':1, 'F':0} )\n",
    "df_final.head(6)"
   ]
  },
  {
   "cell_type": "markdown",
   "metadata": {},
   "source": [
    "<b> Calculate distance of customers from Centre of Australia </b>\n",
    "    \n",
    "If we analyze long and lat as single values, that probably won't tell us too much things.\n",
    "\n",
    "So we are going to use those values to calculated how far a custorm is from the centre of Australia (Lambert Gravitational Centre) [latitude: -25.610111,  longitude: 134.354806]\n",
    "\n",
    "Reference: https://www.wikiwand.com/en/Centre_points_of_Australia"
   ]
  },
  {
   "cell_type": "code",
   "execution_count": 23,
   "metadata": {
    "scrolled": false
   },
   "outputs": [
    {
     "data": {
      "text/html": [
       "<div>\n",
       "<style scoped>\n",
       "    .dataframe tbody tr th:only-of-type {\n",
       "        vertical-align: middle;\n",
       "    }\n",
       "\n",
       "    .dataframe tbody tr th {\n",
       "        vertical-align: top;\n",
       "    }\n",
       "\n",
       "    .dataframe thead th {\n",
       "        text-align: right;\n",
       "    }\n",
       "</style>\n",
       "<table border=\"1\" class=\"dataframe\">\n",
       "  <thead>\n",
       "    <tr style=\"text-align: right;\">\n",
       "      <th></th>\n",
       "      <th>customer_id</th>\n",
       "      <th>age</th>\n",
       "      <th>gender</th>\n",
       "      <th>balance</th>\n",
       "      <th>long</th>\n",
       "      <th>lat</th>\n",
       "    </tr>\n",
       "  </thead>\n",
       "  <tbody>\n",
       "    <tr>\n",
       "      <th>0</th>\n",
       "      <td>CUS-1005756958</td>\n",
       "      <td>53</td>\n",
       "      <td>0</td>\n",
       "      <td>4718.665385</td>\n",
       "      <td>153.03</td>\n",
       "      <td>-27.51</td>\n",
       "    </tr>\n",
       "    <tr>\n",
       "      <th>1</th>\n",
       "      <td>CUS-1117979751</td>\n",
       "      <td>21</td>\n",
       "      <td>0</td>\n",
       "      <td>11957.202857</td>\n",
       "      <td>115.81</td>\n",
       "      <td>-31.82</td>\n",
       "    </tr>\n",
       "    <tr>\n",
       "      <th>2</th>\n",
       "      <td>CUS-1140341822</td>\n",
       "      <td>28</td>\n",
       "      <td>1</td>\n",
       "      <td>5841.720000</td>\n",
       "      <td>144.97</td>\n",
       "      <td>-37.42</td>\n",
       "    </tr>\n",
       "    <tr>\n",
       "      <th>3</th>\n",
       "      <td>CUS-1147642491</td>\n",
       "      <td>34</td>\n",
       "      <td>0</td>\n",
       "      <td>8813.467692</td>\n",
       "      <td>151.04</td>\n",
       "      <td>-33.77</td>\n",
       "    </tr>\n",
       "    <tr>\n",
       "      <th>4</th>\n",
       "      <td>CUS-1196156254</td>\n",
       "      <td>34</td>\n",
       "      <td>0</td>\n",
       "      <td>23845.717143</td>\n",
       "      <td>138.52</td>\n",
       "      <td>-35.01</td>\n",
       "    </tr>\n",
       "    <tr>\n",
       "      <th>5</th>\n",
       "      <td>CUS-1220154422</td>\n",
       "      <td>25</td>\n",
       "      <td>1</td>\n",
       "      <td>9225.907143</td>\n",
       "      <td>150.50</td>\n",
       "      <td>-23.40</td>\n",
       "    </tr>\n",
       "  </tbody>\n",
       "</table>\n",
       "</div>"
      ],
      "text/plain": [
       "      customer_id  age  gender       balance    long    lat\n",
       "0  CUS-1005756958   53       0   4718.665385  153.03 -27.51\n",
       "1  CUS-1117979751   21       0  11957.202857  115.81 -31.82\n",
       "2  CUS-1140341822   28       1   5841.720000  144.97 -37.42\n",
       "3  CUS-1147642491   34       0   8813.467692  151.04 -33.77\n",
       "4  CUS-1196156254   34       0  23845.717143  138.52 -35.01\n",
       "5  CUS-1220154422   25       1   9225.907143  150.50 -23.40"
      ]
     },
     "execution_count": 23,
     "metadata": {},
     "output_type": "execute_result"
    }
   ],
   "source": [
    "long_lat = df_final['long_lat'].str.split(\" \", n = 1, expand = True)\n",
    "df_final['long'] = long_lat[0].astype('float')\n",
    "df_final['lat'] = long_lat[1].astype('float')\n",
    "df_final.drop(['long_lat'], axis = 1, inplace=True)\n",
    "df_final.head(6)"
   ]
  },
  {
   "cell_type": "code",
   "execution_count": 24,
   "metadata": {},
   "outputs": [],
   "source": [
    "centre_latitude = -25.610111\n",
    "centre_longitude = 134.354806\n",
    "\n",
    "import math\n",
    "def calculateDistance(row):\n",
    "    return math.sqrt((row['long'] - centre_longitude)**2 +  (row['lat'] - centre_latitude)**2)\n",
    "\n"
   ]
  },
  {
   "cell_type": "code",
   "execution_count": 25,
   "metadata": {},
   "outputs": [
    {
     "data": {
      "text/html": [
       "<div>\n",
       "<style scoped>\n",
       "    .dataframe tbody tr th:only-of-type {\n",
       "        vertical-align: middle;\n",
       "    }\n",
       "\n",
       "    .dataframe tbody tr th {\n",
       "        vertical-align: top;\n",
       "    }\n",
       "\n",
       "    .dataframe thead th {\n",
       "        text-align: right;\n",
       "    }\n",
       "</style>\n",
       "<table border=\"1\" class=\"dataframe\">\n",
       "  <thead>\n",
       "    <tr style=\"text-align: right;\">\n",
       "      <th></th>\n",
       "      <th>customer_id</th>\n",
       "      <th>age</th>\n",
       "      <th>gender</th>\n",
       "      <th>balance</th>\n",
       "      <th>location_dist</th>\n",
       "    </tr>\n",
       "  </thead>\n",
       "  <tbody>\n",
       "    <tr>\n",
       "      <th>0</th>\n",
       "      <td>CUS-1005756958</td>\n",
       "      <td>53</td>\n",
       "      <td>0</td>\n",
       "      <td>4718.665385</td>\n",
       "      <td>18.771586</td>\n",
       "    </tr>\n",
       "    <tr>\n",
       "      <th>1</th>\n",
       "      <td>CUS-1117979751</td>\n",
       "      <td>21</td>\n",
       "      <td>0</td>\n",
       "      <td>11957.202857</td>\n",
       "      <td>19.556905</td>\n",
       "    </tr>\n",
       "    <tr>\n",
       "      <th>2</th>\n",
       "      <td>CUS-1140341822</td>\n",
       "      <td>28</td>\n",
       "      <td>1</td>\n",
       "      <td>5841.720000</td>\n",
       "      <td>15.879415</td>\n",
       "    </tr>\n",
       "    <tr>\n",
       "      <th>3</th>\n",
       "      <td>CUS-1147642491</td>\n",
       "      <td>34</td>\n",
       "      <td>0</td>\n",
       "      <td>8813.467692</td>\n",
       "      <td>18.573623</td>\n",
       "    </tr>\n",
       "    <tr>\n",
       "      <th>4</th>\n",
       "      <td>CUS-1196156254</td>\n",
       "      <td>34</td>\n",
       "      <td>0</td>\n",
       "      <td>23845.717143</td>\n",
       "      <td>10.281379</td>\n",
       "    </tr>\n",
       "    <tr>\n",
       "      <th>5</th>\n",
       "      <td>CUS-1220154422</td>\n",
       "      <td>25</td>\n",
       "      <td>1</td>\n",
       "      <td>9225.907143</td>\n",
       "      <td>16.295763</td>\n",
       "    </tr>\n",
       "  </tbody>\n",
       "</table>\n",
       "</div>"
      ],
      "text/plain": [
       "      customer_id  age  gender       balance  location_dist\n",
       "0  CUS-1005756958   53       0   4718.665385      18.771586\n",
       "1  CUS-1117979751   21       0  11957.202857      19.556905\n",
       "2  CUS-1140341822   28       1   5841.720000      15.879415\n",
       "3  CUS-1147642491   34       0   8813.467692      18.573623\n",
       "4  CUS-1196156254   34       0  23845.717143      10.281379\n",
       "5  CUS-1220154422   25       1   9225.907143      16.295763"
      ]
     },
     "execution_count": 25,
     "metadata": {},
     "output_type": "execute_result"
    }
   ],
   "source": [
    "df_final['location_dist'] = df_final.apply(lambda row: calculateDistance(row), axis=1)\n",
    "df_final.drop(['long', 'lat'], axis = 1, inplace=True)\n",
    "df_final.head(6)"
   ]
  },
  {
   "cell_type": "markdown",
   "metadata": {},
   "source": [
    "Now, we can concatenate the final information with values we derived/construct ourselves.\n",
    "\n",
    "- from \"df_annual_salary\" -> 'amount'(total salary over months) and 'avg_num_payments'\n",
    "\n",
    "- from \"df_customer_salary\" -> 'salary' (base salary)"
   ]
  },
  {
   "cell_type": "code",
   "execution_count": 26,
   "metadata": {},
   "outputs": [],
   "source": [
    "df_customer_unique = df_customer_salary.drop_duplicates(['customer_id']).reset_index(drop = True)"
   ]
  },
  {
   "cell_type": "markdown",
   "metadata": {},
   "source": [
    "### Concatenate original selected features with created ones"
   ]
  },
  {
   "cell_type": "code",
   "execution_count": 27,
   "metadata": {
    "scrolled": true
   },
   "outputs": [
    {
     "data": {
      "text/html": [
       "<div>\n",
       "<style scoped>\n",
       "    .dataframe tbody tr th:only-of-type {\n",
       "        vertical-align: middle;\n",
       "    }\n",
       "\n",
       "    .dataframe tbody tr th {\n",
       "        vertical-align: top;\n",
       "    }\n",
       "\n",
       "    .dataframe thead th {\n",
       "        text-align: right;\n",
       "    }\n",
       "</style>\n",
       "<table border=\"1\" class=\"dataframe\">\n",
       "  <thead>\n",
       "    <tr style=\"text-align: right;\">\n",
       "      <th></th>\n",
       "      <th>customer_id</th>\n",
       "      <th>age</th>\n",
       "      <th>gender</th>\n",
       "      <th>balance</th>\n",
       "      <th>location_dist</th>\n",
       "      <th>annual_salary</th>\n",
       "      <th>avg_num_payments</th>\n",
       "      <th>base_salary</th>\n",
       "    </tr>\n",
       "  </thead>\n",
       "  <tbody>\n",
       "    <tr>\n",
       "      <th>0</th>\n",
       "      <td>CUS-1005756958</td>\n",
       "      <td>53</td>\n",
       "      <td>0</td>\n",
       "      <td>4718.665385</td>\n",
       "      <td>18.771586</td>\n",
       "      <td>12616.11</td>\n",
       "      <td>4</td>\n",
       "      <td>970.47</td>\n",
       "    </tr>\n",
       "    <tr>\n",
       "      <th>1</th>\n",
       "      <td>CUS-1117979751</td>\n",
       "      <td>21</td>\n",
       "      <td>0</td>\n",
       "      <td>11957.202857</td>\n",
       "      <td>19.556905</td>\n",
       "      <td>25050.55</td>\n",
       "      <td>2</td>\n",
       "      <td>3578.65</td>\n",
       "    </tr>\n",
       "    <tr>\n",
       "      <th>2</th>\n",
       "      <td>CUS-1140341822</td>\n",
       "      <td>28</td>\n",
       "      <td>1</td>\n",
       "      <td>5841.720000</td>\n",
       "      <td>15.879415</td>\n",
       "      <td>11499.06</td>\n",
       "      <td>2</td>\n",
       "      <td>1916.51</td>\n",
       "    </tr>\n",
       "    <tr>\n",
       "      <th>3</th>\n",
       "      <td>CUS-1147642491</td>\n",
       "      <td>34</td>\n",
       "      <td>0</td>\n",
       "      <td>8813.467692</td>\n",
       "      <td>18.573623</td>\n",
       "      <td>22248.07</td>\n",
       "      <td>4</td>\n",
       "      <td>1711.39</td>\n",
       "    </tr>\n",
       "    <tr>\n",
       "      <th>4</th>\n",
       "      <td>CUS-1196156254</td>\n",
       "      <td>34</td>\n",
       "      <td>0</td>\n",
       "      <td>23845.717143</td>\n",
       "      <td>10.281379</td>\n",
       "      <td>27326.11</td>\n",
       "      <td>2</td>\n",
       "      <td>3903.73</td>\n",
       "    </tr>\n",
       "    <tr>\n",
       "      <th>5</th>\n",
       "      <td>CUS-1220154422</td>\n",
       "      <td>25</td>\n",
       "      <td>1</td>\n",
       "      <td>9225.907143</td>\n",
       "      <td>16.295763</td>\n",
       "      <td>15976.52</td>\n",
       "      <td>2</td>\n",
       "      <td>2282.36</td>\n",
       "    </tr>\n",
       "  </tbody>\n",
       "</table>\n",
       "</div>"
      ],
      "text/plain": [
       "      customer_id  age  gender       balance  location_dist  annual_salary  \\\n",
       "0  CUS-1005756958   53       0   4718.665385      18.771586       12616.11   \n",
       "1  CUS-1117979751   21       0  11957.202857      19.556905       25050.55   \n",
       "2  CUS-1140341822   28       1   5841.720000      15.879415       11499.06   \n",
       "3  CUS-1147642491   34       0   8813.467692      18.573623       22248.07   \n",
       "4  CUS-1196156254   34       0  23845.717143      10.281379       27326.11   \n",
       "5  CUS-1220154422   25       1   9225.907143      16.295763       15976.52   \n",
       "\n",
       "   avg_num_payments  base_salary  \n",
       "0                 4       970.47  \n",
       "1                 2      3578.65  \n",
       "2                 2      1916.51  \n",
       "3                 4      1711.39  \n",
       "4                 2      3903.73  \n",
       "5                 2      2282.36  "
      ]
     },
     "execution_count": 27,
     "metadata": {},
     "output_type": "execute_result"
    }
   ],
   "source": [
    "data_annual = pd.concat([df_final, df_annual_salary[['annual_salary', 'avg_num_payments']]], axis=1)\n",
    "data  = pd.concat([data_annual, df_customer_unique['base_salary']], axis =1 )\n",
    "data.head(6)"
   ]
  },
  {
   "cell_type": "code",
   "execution_count": 28,
   "metadata": {
    "scrolled": false
   },
   "outputs": [
    {
     "data": {
      "text/html": [
       "<div>\n",
       "<style scoped>\n",
       "    .dataframe tbody tr th:only-of-type {\n",
       "        vertical-align: middle;\n",
       "    }\n",
       "\n",
       "    .dataframe tbody tr th {\n",
       "        vertical-align: top;\n",
       "    }\n",
       "\n",
       "    .dataframe thead th {\n",
       "        text-align: right;\n",
       "    }\n",
       "</style>\n",
       "<table border=\"1\" class=\"dataframe\">\n",
       "  <thead>\n",
       "    <tr style=\"text-align: right;\">\n",
       "      <th></th>\n",
       "      <th>customer_id</th>\n",
       "      <th>age</th>\n",
       "      <th>gender</th>\n",
       "      <th>balance</th>\n",
       "      <th>location_dist</th>\n",
       "      <th>avg_num_payments</th>\n",
       "      <th>base_salary</th>\n",
       "      <th>annual_salary</th>\n",
       "    </tr>\n",
       "  </thead>\n",
       "  <tbody>\n",
       "    <tr>\n",
       "      <th>0</th>\n",
       "      <td>CUS-1005756958</td>\n",
       "      <td>53</td>\n",
       "      <td>0</td>\n",
       "      <td>4718.665385</td>\n",
       "      <td>18.771586</td>\n",
       "      <td>4</td>\n",
       "      <td>970.47</td>\n",
       "      <td>12616.11</td>\n",
       "    </tr>\n",
       "    <tr>\n",
       "      <th>1</th>\n",
       "      <td>CUS-1117979751</td>\n",
       "      <td>21</td>\n",
       "      <td>0</td>\n",
       "      <td>11957.202857</td>\n",
       "      <td>19.556905</td>\n",
       "      <td>2</td>\n",
       "      <td>3578.65</td>\n",
       "      <td>25050.55</td>\n",
       "    </tr>\n",
       "    <tr>\n",
       "      <th>2</th>\n",
       "      <td>CUS-1140341822</td>\n",
       "      <td>28</td>\n",
       "      <td>1</td>\n",
       "      <td>5841.720000</td>\n",
       "      <td>15.879415</td>\n",
       "      <td>2</td>\n",
       "      <td>1916.51</td>\n",
       "      <td>11499.06</td>\n",
       "    </tr>\n",
       "    <tr>\n",
       "      <th>3</th>\n",
       "      <td>CUS-1147642491</td>\n",
       "      <td>34</td>\n",
       "      <td>0</td>\n",
       "      <td>8813.467692</td>\n",
       "      <td>18.573623</td>\n",
       "      <td>4</td>\n",
       "      <td>1711.39</td>\n",
       "      <td>22248.07</td>\n",
       "    </tr>\n",
       "    <tr>\n",
       "      <th>4</th>\n",
       "      <td>CUS-1196156254</td>\n",
       "      <td>34</td>\n",
       "      <td>0</td>\n",
       "      <td>23845.717143</td>\n",
       "      <td>10.281379</td>\n",
       "      <td>2</td>\n",
       "      <td>3903.73</td>\n",
       "      <td>27326.11</td>\n",
       "    </tr>\n",
       "    <tr>\n",
       "      <th>5</th>\n",
       "      <td>CUS-1220154422</td>\n",
       "      <td>25</td>\n",
       "      <td>1</td>\n",
       "      <td>9225.907143</td>\n",
       "      <td>16.295763</td>\n",
       "      <td>2</td>\n",
       "      <td>2282.36</td>\n",
       "      <td>15976.52</td>\n",
       "    </tr>\n",
       "  </tbody>\n",
       "</table>\n",
       "</div>"
      ],
      "text/plain": [
       "      customer_id  age  gender       balance  location_dist  avg_num_payments  \\\n",
       "0  CUS-1005756958   53       0   4718.665385      18.771586                 4   \n",
       "1  CUS-1117979751   21       0  11957.202857      19.556905                 2   \n",
       "2  CUS-1140341822   28       1   5841.720000      15.879415                 2   \n",
       "3  CUS-1147642491   34       0   8813.467692      18.573623                 4   \n",
       "4  CUS-1196156254   34       0  23845.717143      10.281379                 2   \n",
       "5  CUS-1220154422   25       1   9225.907143      16.295763                 2   \n",
       "\n",
       "   base_salary  annual_salary  \n",
       "0       970.47       12616.11  \n",
       "1      3578.65       25050.55  \n",
       "2      1916.51       11499.06  \n",
       "3      1711.39       22248.07  \n",
       "4      3903.73       27326.11  \n",
       "5      2282.36       15976.52  "
      ]
     },
     "execution_count": 28,
     "metadata": {},
     "output_type": "execute_result"
    }
   ],
   "source": [
    "# reorder columns\n",
    "columns = [col for col in data.columns if col != 'annual_salary'] + ['annual_salary']\n",
    "data = data[columns]\n",
    "data.head(6)"
   ]
  },
  {
   "cell_type": "markdown",
   "metadata": {},
   "source": [
    "### Calculate Pearson Correlation between fields"
   ]
  },
  {
   "cell_type": "code",
   "execution_count": 29,
   "metadata": {},
   "outputs": [
    {
     "data": {
      "text/html": [
       "<div>\n",
       "<style scoped>\n",
       "    .dataframe tbody tr th:only-of-type {\n",
       "        vertical-align: middle;\n",
       "    }\n",
       "\n",
       "    .dataframe tbody tr th {\n",
       "        vertical-align: top;\n",
       "    }\n",
       "\n",
       "    .dataframe thead th {\n",
       "        text-align: right;\n",
       "    }\n",
       "</style>\n",
       "<table border=\"1\" class=\"dataframe\">\n",
       "  <thead>\n",
       "    <tr style=\"text-align: right;\">\n",
       "      <th></th>\n",
       "      <th>age</th>\n",
       "      <th>gender</th>\n",
       "      <th>balance</th>\n",
       "      <th>location_dist</th>\n",
       "      <th>avg_num_payments</th>\n",
       "      <th>base_salary</th>\n",
       "      <th>annual_salary</th>\n",
       "    </tr>\n",
       "  </thead>\n",
       "  <tbody>\n",
       "    <tr>\n",
       "      <th>age</th>\n",
       "      <td>1.000000</td>\n",
       "      <td>-0.021263</td>\n",
       "      <td>0.227026</td>\n",
       "      <td>-0.087073</td>\n",
       "      <td>0.187163</td>\n",
       "      <td>-0.135264</td>\n",
       "      <td>-0.036504</td>\n",
       "    </tr>\n",
       "    <tr>\n",
       "      <th>gender</th>\n",
       "      <td>-0.021263</td>\n",
       "      <td>1.000000</td>\n",
       "      <td>0.059663</td>\n",
       "      <td>-0.100321</td>\n",
       "      <td>-0.051730</td>\n",
       "      <td>-0.072938</td>\n",
       "      <td>-0.109313</td>\n",
       "    </tr>\n",
       "    <tr>\n",
       "      <th>balance</th>\n",
       "      <td>0.227026</td>\n",
       "      <td>0.059663</td>\n",
       "      <td>1.000000</td>\n",
       "      <td>-0.033805</td>\n",
       "      <td>-0.192136</td>\n",
       "      <td>0.231019</td>\n",
       "      <td>0.198755</td>\n",
       "    </tr>\n",
       "    <tr>\n",
       "      <th>location_dist</th>\n",
       "      <td>-0.087073</td>\n",
       "      <td>-0.100321</td>\n",
       "      <td>-0.033805</td>\n",
       "      <td>1.000000</td>\n",
       "      <td>-0.061067</td>\n",
       "      <td>0.070881</td>\n",
       "      <td>0.097938</td>\n",
       "    </tr>\n",
       "    <tr>\n",
       "      <th>avg_num_payments</th>\n",
       "      <td>0.187163</td>\n",
       "      <td>-0.051730</td>\n",
       "      <td>-0.192136</td>\n",
       "      <td>-0.061067</td>\n",
       "      <td>1.000000</td>\n",
       "      <td>-0.693218</td>\n",
       "      <td>-0.030318</td>\n",
       "    </tr>\n",
       "    <tr>\n",
       "      <th>base_salary</th>\n",
       "      <td>-0.135264</td>\n",
       "      <td>-0.072938</td>\n",
       "      <td>0.231019</td>\n",
       "      <td>0.070881</td>\n",
       "      <td>-0.693218</td>\n",
       "      <td>1.000000</td>\n",
       "      <td>0.534883</td>\n",
       "    </tr>\n",
       "    <tr>\n",
       "      <th>annual_salary</th>\n",
       "      <td>-0.036504</td>\n",
       "      <td>-0.109313</td>\n",
       "      <td>0.198755</td>\n",
       "      <td>0.097938</td>\n",
       "      <td>-0.030318</td>\n",
       "      <td>0.534883</td>\n",
       "      <td>1.000000</td>\n",
       "    </tr>\n",
       "  </tbody>\n",
       "</table>\n",
       "</div>"
      ],
      "text/plain": [
       "                       age    gender   balance  location_dist  \\\n",
       "age               1.000000 -0.021263  0.227026      -0.087073   \n",
       "gender           -0.021263  1.000000  0.059663      -0.100321   \n",
       "balance           0.227026  0.059663  1.000000      -0.033805   \n",
       "location_dist    -0.087073 -0.100321 -0.033805       1.000000   \n",
       "avg_num_payments  0.187163 -0.051730 -0.192136      -0.061067   \n",
       "base_salary      -0.135264 -0.072938  0.231019       0.070881   \n",
       "annual_salary    -0.036504 -0.109313  0.198755       0.097938   \n",
       "\n",
       "                  avg_num_payments  base_salary  annual_salary  \n",
       "age                       0.187163    -0.135264      -0.036504  \n",
       "gender                   -0.051730    -0.072938      -0.109313  \n",
       "balance                  -0.192136     0.231019       0.198755  \n",
       "location_dist            -0.061067     0.070881       0.097938  \n",
       "avg_num_payments          1.000000    -0.693218      -0.030318  \n",
       "base_salary              -0.693218     1.000000       0.534883  \n",
       "annual_salary            -0.030318     0.534883       1.000000  "
      ]
     },
     "execution_count": 29,
     "metadata": {},
     "output_type": "execute_result"
    }
   ],
   "source": [
    "df_all_corr = data.corr()\n",
    "df_all_corr"
   ]
  },
  {
   "cell_type": "code",
   "execution_count": 30,
   "metadata": {},
   "outputs": [
    {
     "data": {
      "text/html": [
       "<div>\n",
       "<style scoped>\n",
       "    .dataframe tbody tr th:only-of-type {\n",
       "        vertical-align: middle;\n",
       "    }\n",
       "\n",
       "    .dataframe tbody tr th {\n",
       "        vertical-align: top;\n",
       "    }\n",
       "\n",
       "    .dataframe thead th {\n",
       "        text-align: right;\n",
       "    }\n",
       "</style>\n",
       "<table border=\"1\" class=\"dataframe\">\n",
       "  <thead>\n",
       "    <tr style=\"text-align: right;\">\n",
       "      <th></th>\n",
       "      <th>Feature 1</th>\n",
       "      <th>Feature 2</th>\n",
       "      <th>Correlation Coefficient</th>\n",
       "    </tr>\n",
       "  </thead>\n",
       "  <tbody>\n",
       "    <tr>\n",
       "      <th>0</th>\n",
       "      <td>annual_salary</td>\n",
       "      <td>annual_salary</td>\n",
       "      <td>1.000000</td>\n",
       "    </tr>\n",
       "    <tr>\n",
       "      <th>10</th>\n",
       "      <td>annual_salary</td>\n",
       "      <td>base_salary</td>\n",
       "      <td>0.534883</td>\n",
       "    </tr>\n",
       "    <tr>\n",
       "      <th>15</th>\n",
       "      <td>annual_salary</td>\n",
       "      <td>balance</td>\n",
       "      <td>0.198755</td>\n",
       "    </tr>\n",
       "    <tr>\n",
       "      <th>23</th>\n",
       "      <td>annual_salary</td>\n",
       "      <td>gender</td>\n",
       "      <td>0.109313</td>\n",
       "    </tr>\n",
       "    <tr>\n",
       "      <th>28</th>\n",
       "      <td>annual_salary</td>\n",
       "      <td>location_dist</td>\n",
       "      <td>0.097938</td>\n",
       "    </tr>\n",
       "    <tr>\n",
       "      <th>41</th>\n",
       "      <td>annual_salary</td>\n",
       "      <td>age</td>\n",
       "      <td>0.036504</td>\n",
       "    </tr>\n",
       "    <tr>\n",
       "      <th>46</th>\n",
       "      <td>annual_salary</td>\n",
       "      <td>avg_num_payments</td>\n",
       "      <td>0.030318</td>\n",
       "    </tr>\n",
       "  </tbody>\n",
       "</table>\n",
       "</div>"
      ],
      "text/plain": [
       "        Feature 1         Feature 2  Correlation Coefficient\n",
       "0   annual_salary     annual_salary                 1.000000\n",
       "10  annual_salary       base_salary                 0.534883\n",
       "15  annual_salary           balance                 0.198755\n",
       "23  annual_salary            gender                 0.109313\n",
       "28  annual_salary     location_dist                 0.097938\n",
       "41  annual_salary               age                 0.036504\n",
       "46  annual_salary  avg_num_payments                 0.030318"
      ]
     },
     "execution_count": 30,
     "metadata": {},
     "output_type": "execute_result"
    }
   ],
   "source": [
    "df_all_corr= df_all_corr.abs().unstack().sort_values(kind=\"quicksort\", ascending=False).reset_index()\n",
    "df_all_corr.rename(columns={\"level_0\": \"Feature 1\", \"level_1\": \"Feature 2\", 0: 'Correlation Coefficient'}, inplace=True)\n",
    "df_all_corr[df_all_corr['Feature 1'] == 'annual_salary']"
   ]
  },
  {
   "cell_type": "markdown",
   "metadata": {},
   "source": [
    "\"base_salary\" has a strong correlation with annual_salary. \n",
    "\n",
    "We can not conclude changes in the variable cause changes in annual_salary based on correlation alone. Only properly controlled experiments enable us to determine whether a relationship is causal.\n",
    "\n",
    "A low Pearson correlation coefficient does not mean that no relationship exists between the variables. \n",
    "\n",
    "The variables may have a nonlinear relationship. To check for nonlinear relationships graphically,we will create a scatterplot and use a simple regression model."
   ]
  },
  {
   "cell_type": "code",
   "execution_count": 31,
   "metadata": {
    "scrolled": true
   },
   "outputs": [
    {
     "data": {
      "text/html": [
       "<div>\n",
       "<style scoped>\n",
       "    .dataframe tbody tr th:only-of-type {\n",
       "        vertical-align: middle;\n",
       "    }\n",
       "\n",
       "    .dataframe tbody tr th {\n",
       "        vertical-align: top;\n",
       "    }\n",
       "\n",
       "    .dataframe thead th {\n",
       "        text-align: right;\n",
       "    }\n",
       "</style>\n",
       "<table border=\"1\" class=\"dataframe\">\n",
       "  <thead>\n",
       "    <tr style=\"text-align: right;\">\n",
       "      <th></th>\n",
       "      <th>Feature 1</th>\n",
       "      <th>Feature 2</th>\n",
       "      <th>P-Value Correlation</th>\n",
       "    </tr>\n",
       "  </thead>\n",
       "  <tbody>\n",
       "    <tr>\n",
       "      <th>3</th>\n",
       "      <td>annual_salary</td>\n",
       "      <td>base_salary</td>\n",
       "      <td>9.884301e-09</td>\n",
       "    </tr>\n",
       "    <tr>\n",
       "      <th>8</th>\n",
       "      <td>annual_salary</td>\n",
       "      <td>balance</td>\n",
       "      <td>4.743560e-02</td>\n",
       "    </tr>\n",
       "    <tr>\n",
       "      <th>17</th>\n",
       "      <td>annual_salary</td>\n",
       "      <td>gender</td>\n",
       "      <td>2.789715e-01</td>\n",
       "    </tr>\n",
       "    <tr>\n",
       "      <th>21</th>\n",
       "      <td>annual_salary</td>\n",
       "      <td>location_dist</td>\n",
       "      <td>3.323434e-01</td>\n",
       "    </tr>\n",
       "    <tr>\n",
       "      <th>34</th>\n",
       "      <td>annual_salary</td>\n",
       "      <td>age</td>\n",
       "      <td>7.184211e-01</td>\n",
       "    </tr>\n",
       "    <tr>\n",
       "      <th>38</th>\n",
       "      <td>annual_salary</td>\n",
       "      <td>avg_num_payments</td>\n",
       "      <td>7.646067e-01</td>\n",
       "    </tr>\n",
       "    <tr>\n",
       "      <th>48</th>\n",
       "      <td>annual_salary</td>\n",
       "      <td>annual_salary</td>\n",
       "      <td>1.000000e+00</td>\n",
       "    </tr>\n",
       "  </tbody>\n",
       "</table>\n",
       "</div>"
      ],
      "text/plain": [
       "        Feature 1         Feature 2  P-Value Correlation\n",
       "3   annual_salary       base_salary         9.884301e-09\n",
       "8   annual_salary           balance         4.743560e-02\n",
       "17  annual_salary            gender         2.789715e-01\n",
       "21  annual_salary     location_dist         3.323434e-01\n",
       "34  annual_salary               age         7.184211e-01\n",
       "38  annual_salary  avg_num_payments         7.646067e-01\n",
       "48  annual_salary     annual_salary         1.000000e+00"
      ]
     },
     "execution_count": 31,
     "metadata": {},
     "output_type": "execute_result"
    }
   ],
   "source": [
    "from scipy.stats import pearsonr\n",
    "def pearsonr_pval(x,y):\n",
    "    return pearsonr(x,y)[1]\n",
    "\n",
    "df_all_corr_pValue = data.corr(method=pearsonr_pval)\n",
    "df_all_corr_pValue= df_all_corr_pValue.unstack().sort_values(kind=\"quicksort\", ascending=True).reset_index()\n",
    "df_all_corr_pValue.rename(columns={\"level_0\": \"Feature 1\", \"level_1\": \"Feature 2\", 0: 'P-Value Correlation'}, inplace=True)\n",
    "df_all_corr_pValue[df_all_corr_pValue['Feature 1'] == 'annual_salary']"
   ]
  },
  {
   "cell_type": "markdown",
   "metadata": {},
   "source": [
    "There is inconclusive evidence about the significance of the association between the variables."
   ]
  },
  {
   "cell_type": "markdown",
   "metadata": {},
   "source": [
    "# Plots to see correlations"
   ]
  },
  {
   "cell_type": "code",
   "execution_count": 32,
   "metadata": {},
   "outputs": [],
   "source": [
    "import seaborn as sns\n",
    "import matplotlib.pyplot as plt\n"
   ]
  },
  {
   "cell_type": "markdown",
   "metadata": {},
   "source": [
    "## Base_salary vs Annual Salary"
   ]
  },
  {
   "cell_type": "code",
   "execution_count": 33,
   "metadata": {},
   "outputs": [
    {
     "data": {
      "text/plain": [
       "<matplotlib.axes._subplots.AxesSubplot at 0x1d3f64ed710>"
      ]
     },
     "execution_count": 33,
     "metadata": {},
     "output_type": "execute_result"
    },
    {
     "data": {
      "image/png": "[encoded data removed]",
      "text/plain": [
       "<Figure size 576x432 with 1 Axes>"
      ]
     },
     "metadata": {
      "needs_background": "light"
     },
     "output_type": "display_data"
    }
   ],
   "source": [
    "plt.figure(figsize=(8, 6))\n",
    "sns.regplot(\"base_salary\", \"annual_salary\", data=data)"
   ]
  },
  {
   "cell_type": "markdown",
   "metadata": {},
   "source": [
    "## balance vs Annual Salary"
   ]
  },
  {
   "cell_type": "code",
   "execution_count": 34,
   "metadata": {},
   "outputs": [
    {
     "data": {
      "text/plain": [
       "<matplotlib.axes._subplots.AxesSubplot at 0x1d3f6567be0>"
      ]
     },
     "execution_count": 34,
     "metadata": {},
     "output_type": "execute_result"
    },
    {
     "data": {
      "image/png": "[encoded data removed]",
      "text/plain": [
       "<Figure size 576x432 with 1 Axes>"
      ]
     },
     "metadata": {
      "needs_background": "light"
     },
     "output_type": "display_data"
    }
   ],
   "source": [
    "plt.figure(figsize=(8, 6))\n",
    "sns.regplot(\"balance\", \"annual_salary\", data=data)"
   ]
  },
  {
   "cell_type": "markdown",
   "metadata": {},
   "source": [
    "## Age vs Annual Salary"
   ]
  },
  {
   "cell_type": "code",
   "execution_count": 35,
   "metadata": {},
   "outputs": [
    {
     "data": {
      "text/plain": [
       "<matplotlib.axes._subplots.AxesSubplot at 0x1d3f65b4f98>"
      ]
     },
     "execution_count": 35,
     "metadata": {},
     "output_type": "execute_result"
    },
    {
     "data": {
      "image/png": "[encoded data removed]",
      "text/plain": [
       "<Figure size 576x432 with 1 Axes>"
      ]
     },
     "metadata": {
      "needs_background": "light"
     },
     "output_type": "display_data"
    }
   ],
   "source": [
    "plt.figure(figsize=(8, 6))\n",
    "sns.regplot(\"age\", \"annual_salary\", data=data)"
   ]
  },
  {
   "cell_type": "markdown",
   "metadata": {},
   "source": [
    "<b> We have an outlier in \"Location distance\" feature</b>"
   ]
  },
  {
   "cell_type": "code",
   "execution_count": 36,
   "metadata": {},
   "outputs": [
    {
     "data": {
      "text/plain": [
       "560.5273886392439"
      ]
     },
     "execution_count": 36,
     "metadata": {},
     "output_type": "execute_result"
    }
   ],
   "source": [
    "data['location_dist'].max()"
   ]
  },
  {
   "cell_type": "markdown",
   "metadata": {},
   "source": [
    "# Model Builiding - Regression Model"
   ]
  },
  {
   "cell_type": "code",
   "execution_count": 37,
   "metadata": {},
   "outputs": [],
   "source": [
    "X=data[['age' , 'gender', 'balance', 'location_dist', 'avg_num_payments', 'base_salary']].values\n",
    "y=data['annual_salary'].values"
   ]
  },
  {
   "cell_type": "code",
   "execution_count": 38,
   "metadata": {},
   "outputs": [],
   "source": [
    "from sklearn.model_selection import train_test_split\n",
    "X_train, X_test, y_train, y_test = train_test_split( X, y, test_size=0.2, random_state=42)"
   ]
  },
  {
   "cell_type": "code",
   "execution_count": 39,
   "metadata": {},
   "outputs": [
    {
     "data": {
      "text/plain": [
       "0.5231347070503298"
      ]
     },
     "execution_count": 39,
     "metadata": {},
     "output_type": "execute_result"
    }
   ],
   "source": [
    "from sklearn.linear_model import LinearRegression\n",
    "lr = LinearRegression()\n",
    "lr.fit(X_train, y_train)\n",
    "lr.score(X, y)"
   ]
  },
  {
   "cell_type": "markdown",
   "metadata": {},
   "source": [
    "## Regression Model - Results"
   ]
  },
  {
   "cell_type": "code",
   "execution_count": 40,
   "metadata": {},
   "outputs": [
    {
     "name": "stdout",
     "output_type": "stream",
     "text": [
      "Regression Model, R-squared:  0.4192405895493032\n"
     ]
    }
   ],
   "source": [
    "from sklearn.metrics import r2_score\n",
    "y_predict=lr.predict(X_test)\n",
    "#R-squared is a statistical measure of how close the data are to the fitted regression line.\n",
    "# It is also known as the coefficient of determination, or the coefficient of multiple determination for multiple regression\n",
    "print('Regression Model, R-squared: ', r2_score(y_test, y_predict))"
   ]
  },
  {
   "cell_type": "code",
   "execution_count": 41,
   "metadata": {},
   "outputs": [
    {
     "name": "stdout",
     "output_type": "stream",
     "text": [
      "Regression Model, RMSE 4876.661047214676\n"
     ]
    }
   ],
   "source": [
    "from sklearn.metrics import mean_squared_error\n",
    "# RMSE - Root Mean Squared Error \n",
    "print('Regression Model, RMSE', np.sqrt(mean_squared_error(y_test, y_predict)))"
   ]
  },
  {
   "cell_type": "markdown",
   "metadata": {},
   "source": [
    "## Regression Model Analysis\n",
    "- The model’s R-squared shows that it only explains about 40% of variation in customers’annual salary.\n",
    "\n",
    "- The RMSE of the model over 20% of the data is near 5000, which indicates somehow the inaccuracy of the model.\n",
    "\n",
    "- Probably, more data is required to develop a more reliable model.\n"
   ]
  },
  {
   "cell_type": "markdown",
   "metadata": {},
   "source": [
    "# Model Builiding - Decision Tree"
   ]
  },
  {
   "cell_type": "code",
   "execution_count": 42,
   "metadata": {},
   "outputs": [
    {
     "data": {
      "text/plain": [
       "0.9630003955678947"
      ]
     },
     "execution_count": 42,
     "metadata": {},
     "output_type": "execute_result"
    }
   ],
   "source": [
    "from sklearn.tree import DecisionTreeRegressor\n",
    "dectree = DecisionTreeRegressor(max_depth=5,random_state=0)\n",
    "dectree.fit(X_train, y_train)\n",
    "dectree.score(X_train, y_train)\n",
    "\n"
   ]
  },
  {
   "cell_type": "markdown",
   "metadata": {},
   "source": [
    "## Decision Tree Model - Results"
   ]
  },
  {
   "cell_type": "code",
   "execution_count": 43,
   "metadata": {},
   "outputs": [
    {
     "name": "stdout",
     "output_type": "stream",
     "text": [
      "Decision Tree, R-squared:  0.1501796279735662\n",
      "Decision Tree, RMSE 5899.130613268002\n"
     ]
    }
   ],
   "source": [
    "y_predict = dectree.predict(X_test)\n",
    "print('Decision Tree, R-squared: ', r2_score(y_test, y_predict))\n",
    "print('Decision Tree, RMSE', np.sqrt(mean_squared_error(y_test, y_predict)))"
   ]
  },
  {
   "cell_type": "markdown",
   "metadata": {},
   "source": [
    "## Decision Tree Analysis\n",
    "\n",
    "The Decision Tree model got an R-squared value of 0.96 , which is very close to 1, indicating the model can be able to explain  the annual salary variability.\n",
    "\n",
    "However, the model achieved a RMSE of 5899 which is a litlle bit higher than that of the linear regression model (4876)\n",
    "\n"
   ]
  },
  {
   "cell_type": "markdown",
   "metadata": {},
   "source": [
    "# Final Conclusion\n",
    "\n",
    "Even though the Decision Tree model is performing better than the Linear Regression model in terms of its R-square value, we can not conclude is will be fine to consider useful as it has a higher RMSE.\n",
    "\n",
    "This means that the absolute fit of the model is much worse, overall. For that reason, neither of both models should be considered to segment the customers.\n",
    "\n",
    "Taking in mind that we only have 3 months of data, it would be good to compare the generated models with more data, and also another machine learning technique can be applied in order to see if there is room for improvement."
   ]
  },
  {
   "cell_type": "code",
   "execution_count": null,
   "metadata": {},
   "outputs": [],
   "source": []
  }
 ],
 "metadata": {
  "kernelspec": {
   "display_name": "Python 3",
   "language": "python",
   "name": "python3"
  },
  "language_info": {
   "codemirror_mode": {
    "name": "ipython",
    "version": 3
   },
   "file_extension": ".py",
   "mimetype": "text/x-python",
   "name": "python",
   "nbconvert_exporter": "python",
   "pygments_lexer": "ipython3",
   "version": "3.7.3"
  },
  "toc": {
   "base_numbering": 1,
   "nav_menu": {},
   "number_sections": false,
   "sideBar": true,
   "skip_h1_title": true,
   "title_cell": "Table of Contents",
   "title_sidebar": "Contents",
   "toc_cell": false,
   "toc_position": {},
   "toc_section_display": true,
   "toc_window_display": false
  }
 },
 "nbformat": 4,
 "nbformat_minor": 4
}
